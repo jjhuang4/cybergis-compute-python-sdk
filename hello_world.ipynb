{
 "cells": [
  {
   "cell_type": "code",
   "execution_count": 1,
   "id": "464fb5a6-e3ac-4c40-a8ed-b9ef25cede52",
   "metadata": {},
   "outputs": [],
   "source": [
    "from cybergis_compute_client import CyberGISCompute\n",
    "\n",
    "# use \"cgjobsup-test.cigi.illinois.edu\" for testing\n",
    "# use \"cgjobsup.cigi.illinois.edu\" for production\n",
    "cybergis = CyberGISCompute(url=\"cgjobsup-test.cigi.illinois.edu\", isJupyter=True, protocol=\"HTTPS\", port=443, suffix=\"v2\")"
   ]
  },
  {
   "cell_type": "code",
   "execution_count": 2,
   "id": "dc6c4fac-7eec-4ebc-9d73-13851581e32b",
   "metadata": {},
   "outputs": [
    {
     "name": "stdout",
     "output_type": "stream",
     "text": [
      "📃 Found \"cybergis_compute_user.json! NOTE: if you want to login as another user, please remove this file\n",
      "🎯 Logged in as jjhuang4@cybergisx.cigi.illinois.edu\n"
     ]
    },
    {
     "data": {
      "application/vnd.jupyter.widget-view+json": {
       "model_id": "342a949c32de43f5b0e471f78678b638",
       "version_major": 2,
       "version_minor": 0
      },
      "text/plain": [
       "Tab(children=(Output(), Output(), Output(), Output(), Output(), Output()), _titles={'0': 'Job Configuration', …"
      ]
     },
     "metadata": {},
     "output_type": "display_data"
    }
   ],
   "source": [
    "cybergis.show_ui() # set simple to True for autodownload at job end\n",
    "#cybergis.show_ui(simple=True) # for auto download\n",
    "#cybergis.show_ui(simple=False) # simple is set to False by default"
   ]
  },
  {
   "cell_type": "code",
   "execution_count": null,
   "id": "dc950665-40eb-4515-8cbc-cc8cc5e0ddb8",
   "metadata": {},
   "outputs": [],
   "source": []
  }
 ],
 "metadata": {
  "kernelspec": {
   "display_name": "Python 3",
   "language": "python",
   "name": "python3"
  },
  "language_info": {
   "codemirror_mode": {
    "name": "ipython",
    "version": 3
   },
   "file_extension": ".py",
   "mimetype": "text/x-python",
   "name": "python",
   "nbconvert_exporter": "python",
   "pygments_lexer": "ipython3",
   "version": "3.8.12"
  }
 },
 "nbformat": 4,
 "nbformat_minor": 5
}
